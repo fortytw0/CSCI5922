{
 "cells": [
  {
   "cell_type": "code",
   "execution_count": 1,
   "id": "e8dbf823-a1b3-45da-9b69-e53c148bdfd2",
   "metadata": {},
   "outputs": [],
   "source": [
    "from datasets import load_dataset\n",
    "import re\n",
    "import string\n",
    "import os\n",
    "import numpy as np\n",
    "import matplotlib.pyplot as plt\n",
    "import time\n",
    "import pandas as pd"
   ]
  },
  {
   "cell_type": "code",
   "execution_count": 2,
   "id": "147179a1-c710-4059-89f6-1f0026d4437e",
   "metadata": {},
   "outputs": [
    {
     "name": "stderr",
     "output_type": "stream",
     "text": [
      "Reusing dataset imdb (/Users/dsrinivas/.cache/huggingface/datasets/imdb/plain_text/1.0.0/2fdd8b9bcadd6e7055e742a706876ba43f19faee861df134affd7a3f60fc38a1)\n"
     ]
    },
    {
     "data": {
      "application/vnd.jupyter.widget-view+json": {
       "model_id": "cb00b71a8f42449b897c09d0de9bb3af",
       "version_major": 2,
       "version_minor": 0
      },
      "text/plain": [
       "  0%|          | 0/3 [00:00<?, ?it/s]"
      ]
     },
     "metadata": {},
     "output_type": "display_data"
    }
   ],
   "source": [
    "dataset = load_dataset(\"imdb\")\n",
    "os.chdir('..')"
   ]
  },
  {
   "cell_type": "code",
   "execution_count": 3,
   "id": "9b1a57e2-64a0-44c6-a0c3-26cd175493c8",
   "metadata": {},
   "outputs": [],
   "source": [
    "log_dir = 'logs/'\n",
    "results_dir = 'results/'"
   ]
  },
  {
   "cell_type": "code",
   "execution_count": 4,
   "id": "92d51a22-e150-44be-a6ee-fec791151ef1",
   "metadata": {},
   "outputs": [],
   "source": [
    "# https://stackoverflow.com/questions/3398852/using-python-remove-html-tags-formatting-from-a-string\n",
    "# https://stackoverflow.com/questions/1546226/is-there-a-simple-way-to-remove-multiple-spaces-in-a-string\n",
    "html_tag_re = re.compile(r'<.*?>')\n",
    "multi_space_re = re.compile(r'\\s\\s+')\n",
    "\n",
    "def pre_process(text) : \n",
    "    \n",
    "    text = text.lower()\n",
    "    text = html_tag_re.sub(' ', text)\n",
    "    text = multi_space_re.sub(' ', text)\n",
    "    text = ''.join([char for char in text if char not in string.punctuation])\n",
    "    return text\n",
    "\n",
    "def get_count_of_tokens(text) : \n",
    "    \n",
    "    return len(text.split(\" \"))"
   ]
  },
  {
   "cell_type": "code",
   "execution_count": 5,
   "id": "8b532781-73cc-4405-99f2-bfb2bf918be9",
   "metadata": {},
   "outputs": [
    {
     "name": "stdout",
     "output_type": "stream",
     "text": [
      "Average token length is : 231.49608\n",
      "Standard deviation of token is : 171.9681311889898\n"
     ]
    },
    {
     "data": {
      "image/png": "[encoded data removed]",
      "text/plain": [
       "<Figure size 432x288 with 1 Axes>"
      ]
     },
     "metadata": {
      "needs_background": "light"
     },
     "output_type": "display_data"
    }
   ],
   "source": [
    "train_token_lens = []\n",
    "for text in dataset['train']['text'] : \n",
    "    train_token_lens.append(get_count_of_tokens(pre_process(text)))\n",
    "\n",
    "token_length_avg = np.mean(train_token_lens)\n",
    "token_length_std = np.std(train_token_lens)\n",
    "    \n",
    "print(\"Average token length is : {}\".format(token_length_avg))\n",
    "print(\"Standard deviation of token is : {}\".format(token_length_std))\n",
    "\n",
    "plt.hist(train_token_lens, bins=range(0,1500,10))\n",
    "plt.xlabel(\"Token Length\")\n",
    "plt.ylabel(\"Number\")\n",
    "plt.title(\"Spread of token lengths - Train\")\n",
    "plt.show()"
   ]
  },
  {
   "cell_type": "code",
   "execution_count": 6,
   "id": "a03fef8c-01d5-4d0b-8ece-22c2a86219a3",
   "metadata": {},
   "outputs": [
    {
     "name": "stdout",
     "output_type": "stream",
     "text": [
      "Average token length is : 226.25972\n",
      "Standard deviation of token is : 167.1058123032278\n"
     ]
    },
    {
     "data": {
      "image/png": "[encoded data removed]",
      "text/plain": [
       "<Figure size 432x288 with 1 Axes>"
      ]
     },
     "metadata": {
      "needs_background": "light"
     },
     "output_type": "display_data"
    }
   ],
   "source": [
    "test_token_lens = []\n",
    "for text in dataset['test']['text'] : \n",
    "    test_token_lens.append(get_count_of_tokens(pre_process(text)))\n",
    "\n",
    "token_length_avg = np.mean(test_token_lens)\n",
    "token_length_std = np.std(test_token_lens)\n",
    "    \n",
    "print(\"Average token length is : {}\".format(token_length_avg))\n",
    "print(\"Standard deviation of token is : {}\".format(token_length_std))\n",
    "\n",
    "plt.hist(test_token_lens, bins=range(0,1500,10))\n",
    "plt.xlabel(\"Token Length\")\n",
    "plt.ylabel(\"Number\")\n",
    "plt.title(\"Spread of token lengths - Test\")\n",
    "plt.show()"
   ]
  },
  {
   "cell_type": "code",
   "execution_count": 7,
   "id": "1f01fa0b-2443-4769-bdc1-15385d24dd0a",
   "metadata": {},
   "outputs": [],
   "source": [
    "from tensorflow.keras.layers import TextVectorization"
   ]
  },
  {
   "cell_type": "code",
   "execution_count": 8,
   "id": "155d4d7b-ccbf-4f38-a6ea-229f1baed328",
   "metadata": {},
   "outputs": [
    {
     "name": "stdout",
     "output_type": "stream",
     "text": [
      "The output sequence length is 452\n",
      "There are 10000 words in this vocabulary\n"
     ]
    }
   ],
   "source": [
    "sequence_length = int(token_length_avg*2)\n",
    "vocabulary_size = 10000\n",
    "\n",
    "vectorizer = TextVectorization(max_tokens=vocabulary_size, output_sequence_length=sequence_length)\n",
    "vectorizer.adapt(dataset['train']['text'])\n",
    "\n",
    "vocabulary = vectorizer.get_vocabulary()\n",
    "vocabulary_size = len(vocabulary)\n",
    "\n",
    "print(\"The output sequence length is {}\".format(sequence_length))\n",
    "print(\"There are {} words in this vocabulary\".format(vocabulary_size))"
   ]
  },
  {
   "cell_type": "code",
   "execution_count": 9,
   "id": "4cba4a5d-3d57-461a-a95e-61d6ea1f9fdf",
   "metadata": {},
   "outputs": [],
   "source": [
    "def bifurcate_dataset(token_lens, X, Y) : \n",
    "    \n",
    "    bifurcated_dataset = {'short' : {'X' : [] , 'Y' : []}, \n",
    "                          'medium' : {'X' : [], 'Y' : []},\n",
    "                          'long' : {'X' : [], 'Y' : []}}\n",
    "    \n",
    "    assert len(token_lens)==X.shape[0]\n",
    "    assert len(token_lens)==Y.shape[0]\n",
    "    \n",
    "    sorted_token_len_i = np.argsort(token_lens)\n",
    "\n",
    "    first_bifurcation = int(len(token_lens)/3)\n",
    "    second_bifurcation = int(2*len(token_lens)/3)\n",
    "\n",
    "    short_review_indices  = tuple(sorted_token_len_i[:first_bifurcation])\n",
    "    medium_review_indices = tuple(sorted_token_len_i[first_bifurcation:second_bifurcation])\n",
    "    long_review_indices = tuple(sorted_token_len_i[second_bifurcation:])\n",
    "    \n",
    "    print(\"# short indices : {}, # medium indices : {} , # long indices : {}\".format(len(short_review_indices), \n",
    "                                                                                    len(medium_review_indices),\n",
    "                                                                                    len(long_review_indices)))\n",
    "    \n",
    "    bifurcated_dataset['short']['X'] = X[[short_review_indices]]\n",
    "    bifurcated_dataset['medium']['X'] = X[[medium_review_indices]]\n",
    "    bifurcated_dataset['long']['X'] = X[[long_review_indices]]\n",
    "    \n",
    "    bifurcated_dataset['short']['Y'] = Y[[short_review_indices]]\n",
    "    bifurcated_dataset['medium']['Y'] = Y[[medium_review_indices]]\n",
    "    bifurcated_dataset['long']['Y'] = Y[[long_review_indices]]\n",
    "\n",
    "    return bifurcated_dataset\n",
    "    "
   ]
  },
  {
   "cell_type": "code",
   "execution_count": 10,
   "id": "33cc4097-2ec1-4d6c-af2a-63695f47a749",
   "metadata": {},
   "outputs": [],
   "source": [
    "word2id = dict(zip(vocabulary, range(vocabulary_size)))"
   ]
  },
  {
   "cell_type": "code",
   "execution_count": 11,
   "id": "c9c5fc31-49a8-4a29-80e4-ac7bdf3e262b",
   "metadata": {},
   "outputs": [],
   "source": [
    "x_train = vectorizer(np.array([[s] for s in dataset['train']['text']])).numpy()\n",
    "x_test = vectorizer(np.array([[s] for s in dataset['test']['text']])).numpy()\n",
    "\n",
    "y_train = np.array(dataset['train']['label'])\n",
    "y_test = np.array(dataset['test']['label'])"
   ]
  },
  {
   "cell_type": "code",
   "execution_count": 12,
   "id": "5c01ffe3-08f0-4d76-9842-a53e0f490abf",
   "metadata": {},
   "outputs": [
    {
     "name": "stdout",
     "output_type": "stream",
     "text": [
      "# short indices : 8333, # medium indices : 8333 , # long indices : 8334\n",
      "# short indices : 8333, # medium indices : 8333 , # long indices : 8334\n"
     ]
    },
    {
     "name": "stderr",
     "output_type": "stream",
     "text": [
      "<ipython-input-9-2a3a7eb36ef2>:23: FutureWarning: Using a non-tuple sequence for multidimensional indexing is deprecated; use `arr[tuple(seq)]` instead of `arr[seq]`. In the future this will be interpreted as an array index, `arr[np.array(seq)]`, which will result either in an error or a different result.\n",
      "  bifurcated_dataset['short']['X'] = X[[short_review_indices]]\n",
      "<ipython-input-9-2a3a7eb36ef2>:24: FutureWarning: Using a non-tuple sequence for multidimensional indexing is deprecated; use `arr[tuple(seq)]` instead of `arr[seq]`. In the future this will be interpreted as an array index, `arr[np.array(seq)]`, which will result either in an error or a different result.\n",
      "  bifurcated_dataset['medium']['X'] = X[[medium_review_indices]]\n",
      "<ipython-input-9-2a3a7eb36ef2>:25: FutureWarning: Using a non-tuple sequence for multidimensional indexing is deprecated; use `arr[tuple(seq)]` instead of `arr[seq]`. In the future this will be interpreted as an array index, `arr[np.array(seq)]`, which will result either in an error or a different result.\n",
      "  bifurcated_dataset['long']['X'] = X[[long_review_indices]]\n",
      "<ipython-input-9-2a3a7eb36ef2>:27: FutureWarning: Using a non-tuple sequence for multidimensional indexing is deprecated; use `arr[tuple(seq)]` instead of `arr[seq]`. In the future this will be interpreted as an array index, `arr[np.array(seq)]`, which will result either in an error or a different result.\n",
      "  bifurcated_dataset['short']['Y'] = Y[[short_review_indices]]\n",
      "<ipython-input-9-2a3a7eb36ef2>:28: FutureWarning: Using a non-tuple sequence for multidimensional indexing is deprecated; use `arr[tuple(seq)]` instead of `arr[seq]`. In the future this will be interpreted as an array index, `arr[np.array(seq)]`, which will result either in an error or a different result.\n",
      "  bifurcated_dataset['medium']['Y'] = Y[[medium_review_indices]]\n",
      "<ipython-input-9-2a3a7eb36ef2>:29: FutureWarning: Using a non-tuple sequence for multidimensional indexing is deprecated; use `arr[tuple(seq)]` instead of `arr[seq]`. In the future this will be interpreted as an array index, `arr[np.array(seq)]`, which will result either in an error or a different result.\n",
      "  bifurcated_dataset['long']['Y'] = Y[[long_review_indices]]\n"
     ]
    }
   ],
   "source": [
    "train_dataset = bifurcate_dataset(train_token_lens, x_train, y_train)\n",
    "test_dataset = bifurcate_dataset(test_token_lens, x_test, y_test)\n",
    "\n",
    "train_dataset['all'] = {'X':x_train, 'Y':y_train}\n",
    "test_dataset['all'] = {'X':x_test, 'Y':y_test}"
   ]
  },
  {
   "cell_type": "code",
   "execution_count": 13,
   "id": "23db002f-3680-46d4-9bb5-f16c060c53f8",
   "metadata": {},
   "outputs": [
    {
     "name": "stdout",
     "output_type": "stream",
     "text": [
      "Embedding dimension: 100.\n"
     ]
    }
   ],
   "source": [
    "embedding_dimension = 100\n",
    "path_to_glove_file = \"data/glove.6B.{}d.txt\".format(embedding_dimension)\n",
    "assert os.path.exists(path_to_glove_file)\n",
    "\n",
    "word2embedding = {}\n",
    "with open(path_to_glove_file) as f:\n",
    "    for line in f:\n",
    "        word, coefs = line.split (maxsplit=1)\n",
    "        coefs = np.fromstring(coefs, \"f\", sep=\" \")\n",
    "        word2embedding[word] = coefs\n",
    "\n",
    "print(\"Embedding dimension: {}.\".format(embedding_dimension))"
   ]
  },
  {
   "cell_type": "code",
   "execution_count": 14,
   "id": "49b2f1cc-f6db-4ab0-9b9f-3b3199d2f832",
   "metadata": {},
   "outputs": [
    {
     "name": "stdout",
     "output_type": "stream",
     "text": [
      "9691/10000 words have been encoded.\n"
     ]
    }
   ],
   "source": [
    "embedding_weights = np.zeros((vocabulary_size, embedding_dimension))\n",
    "num_encoded_words = 0\n",
    "\n",
    "for word, id in word2id.items() : \n",
    "    if word in word2embedding: \n",
    "        embedding_weights[id] = word2embedding[word]\n",
    "        num_encoded_words += 1\n",
    "        \n",
    "print(\"{}/{} words have been encoded.\".format(num_encoded_words, vocabulary_size))"
   ]
  },
  {
   "cell_type": "code",
   "execution_count": 15,
   "id": "180cd0e5-2959-44fd-92db-3f0155d24f88",
   "metadata": {},
   "outputs": [],
   "source": [
    "from tensorflow.keras.layers import Embedding\n",
    "from tensorflow.keras.initializers import Constant\n",
    "\n",
    "embedding_layer = Embedding(vocabulary_size, embedding_dimension,\n",
    "                            embeddings_initializer= Constant(embedding_weights), \n",
    "                            trainable=False)"
   ]
  },
  {
   "cell_type": "code",
   "execution_count": 16,
   "id": "2684d2cf-262d-43d9-9524-8fec6824749f",
   "metadata": {},
   "outputs": [],
   "source": [
    "from tensorflow.keras.layers import Input, Dense, Bidirectional, LSTM, GRU, RNN\n",
    "from tensorflow.keras.losses import BinaryCrossentropy\n",
    "from tensorflow.keras.optimizers import Adam\n",
    "from tensorflow.keras import Input, Model\n",
    "from tensorflow.keras.metrics import TruePositives, TrueNegatives, FalsePositives, FalseNegatives"
   ]
  },
  {
   "cell_type": "code",
   "execution_count": 17,
   "id": "cf49566b-f77f-4833-9efd-f963b7a6b295",
   "metadata": {},
   "outputs": [],
   "source": [
    "def get_model(recursive_layer, bidirectional=False) : \n",
    "        \n",
    "    if recursive_layer == \"lstm\" : \n",
    "        recursive_layer = LSTM\n",
    "    elif recursive_layer == \"gru\" : \n",
    "        recursive_layer = GRU\n",
    "    else : \n",
    "        recursive_layer = RNN\n",
    "    \n",
    "    input_layer = Input(shape=(sequence_length, ))\n",
    "    embedding = embedding_layer(input_layer)\n",
    "    \n",
    "    if bidirectional : \n",
    "        lstm = recursive_layer(64, return_sequences=True)(embedding)\n",
    "        lstm = recursive_layer(64)(lstm)\n",
    "    else : \n",
    "        lstm = Bidirectional(recursive_layer(64, return_sequences=True))(embedding)\n",
    "        lstm = Bidirectional(recursive_layer(64))(lstm)\n",
    "        \n",
    "    dense = Dense(64, activation='relu')(lstm)\n",
    "    dense = Dense(32, activation='relu')(dense)\n",
    "    output = Dense(1, activation='sigmoid')(dense)\n",
    "    \n",
    "    model = Model(inputs=[input_layer], outputs=[output])\n",
    "    model.compile(loss=BinaryCrossentropy(), \n",
    "                  optimizer=Adam(),\n",
    "                  metrics=[TruePositives(), \n",
    "                           TrueNegatives(), \n",
    "                           FalsePositives(), \n",
    "                           FalseNegatives()]\n",
    "                 )\n",
    "    return model\n",
    "\n",
    "\n",
    "def plot_loss(plot_name, loss) :\n",
    "        \n",
    "    plot_save_path = os.path.join(results_dir, plot_name+'.jpg')\n",
    "    \n",
    "    \n",
    "    plt.plot(loss, labels=['Training Loss'])\n",
    "    plt.xlabel('Epochs')\n",
    "    plt.ylabel('Loss')\n",
    "    plt.title(plot_name)\n",
    "    plt.xticks(np.arange(0, len(loss)+6, 5))\n",
    "    plt.grid()\n",
    "    plt.savefig(plot_save_path)\n",
    "    \n"
   ]
  },
  {
   "cell_type": "code",
   "execution_count": 18,
   "id": "3820cb73-fa61-4e22-9bf2-7b38b75b7820",
   "metadata": {},
   "outputs": [],
   "source": [
    "from tensorflow.keras.callbacks import EarlyStopping\n",
    "\n",
    "early_stopping = EarlyStopping(monitor='loss', patience=3)\n",
    "\n",
    "recursion_layers = ['lstm', 'gru', 'rnn']\n",
    "bidirectionality = [True, False] "
   ]
  },
  {
   "cell_type": "code",
   "execution_count": 21,
   "id": "b44a4f00-208c-4b5b-9d4c-19f95c76d064",
   "metadata": {},
   "outputs": [
    {
     "name": "stdout",
     "output_type": "stream",
     "text": [
      "Epoch 1/10\n",
      "66/66 [==============================] - 62s 799ms/step - loss: 0.6342 - true_positives_1: 2585.0000 - true_negatives_1: 2662.0000 - false_positives_1: 1438.0000 - false_negatives_1: 1648.0000\n",
      "Epoch 2/10\n",
      "66/66 [==============================] - 47s 703ms/step - loss: 0.5009 - true_positives_1: 3234.0000 - true_negatives_1: 3098.0000 - false_positives_1: 1002.0000 - false_negatives_1: 999.0000\n",
      "Epoch 3/10\n",
      "66/66 [==============================] - 47s 712ms/step - loss: 0.4475 - true_positives_1: 3357.0000 - true_negatives_1: 3295.0000 - false_positives_1: 805.0000 - false_negatives_1: 876.0000\n",
      "Epoch 4/10\n",
      "66/66 [==============================] - 48s 724ms/step - loss: 0.4225 - true_positives_1: 3439.0000 - true_negatives_1: 3284.0000 - false_positives_1: 816.0000 - false_negatives_1: 794.0000\n",
      "Epoch 5/10\n",
      "66/66 [==============================] - 47s 711ms/step - loss: 0.3872 - true_positives_1: 3509.0000 - true_negatives_1: 3391.0000 - false_positives_1: 709.0000 - false_negatives_1: 724.0000\n",
      "Epoch 6/10\n",
      "66/66 [==============================] - 47s 713ms/step - loss: 0.3956 - true_positives_1: 3512.0000 - true_negatives_1: 3376.0000 - false_positives_1: 724.0000 - false_negatives_1: 721.0000\n",
      "Epoch 7/10\n",
      "66/66 [==============================] - 47s 714ms/step - loss: 0.3527 - true_positives_1: 3639.0000 - true_negatives_1: 3425.0000 - false_positives_1: 675.0000 - false_negatives_1: 594.0000\n",
      "Epoch 8/10\n",
      "66/66 [==============================] - 47s 712ms/step - loss: 0.3328 - true_positives_1: 3649.0000 - true_negatives_1: 3510.0000 - false_positives_1: 590.0000 - false_negatives_1: 584.0000\n",
      "Epoch 9/10\n",
      "66/66 [==============================] - 47s 713ms/step - loss: 0.3261 - true_positives_1: 3703.0000 - true_negatives_1: 3498.0000 - false_positives_1: 602.0000 - false_negatives_1: 530.0000\n",
      "Epoch 10/10\n",
      "66/66 [==============================] - 48s 730ms/step - loss: 0.3099 - true_positives_1: 3684.0000 - true_negatives_1: 3569.0000 - false_positives_1: 531.0000 - false_negatives_1: 549.0000\n",
      "66/66 [==============================] - 23s 284ms/step - loss: 0.3338 - true_positives_1: 3675.0000 - true_negatives_1: 3473.0000 - false_positives_1: 567.0000 - false_negatives_1: 618.0000\n",
      "Epoch 1/10\n",
      "66/66 [==============================] - 63s 819ms/step - loss: 0.6719 - true_positives_2: 2019.0000 - true_negatives_2: 2728.0000 - false_positives_2: 1592.0000 - false_negatives_2: 1994.0000\n",
      "Epoch 2/10\n",
      "66/66 [==============================] - 48s 718ms/step - loss: 0.6688 - true_positives_2: 1834.0000 - true_negatives_2: 3170.0000 - false_positives_2: 1150.0000 - false_negatives_2: 2179.0000\n",
      "Epoch 3/10\n",
      "66/66 [==============================] - 46s 703ms/step - loss: 0.6122 - true_positives_2: 2625.0000 - true_negatives_2: 3005.0000 - false_positives_2: 1315.0000 - false_negatives_2: 1388.0000\n",
      "Epoch 4/10\n",
      "66/66 [==============================] - 47s 706ms/step - loss: 0.5966 - true_positives_2: 2605.0000 - true_negatives_2: 3211.0000 - false_positives_2: 1109.0000 - false_negatives_2: 1408.0000\n",
      "Epoch 5/10\n",
      "66/66 [==============================] - 47s 711ms/step - loss: 0.5630 - true_positives_2: 2671.0000 - true_negatives_2: 3375.0000 - false_positives_2: 945.0000 - false_negatives_2: 1342.0000\n",
      "Epoch 6/10\n",
      "66/66 [==============================] - 47s 706ms/step - loss: 0.5153 - true_positives_2: 2945.0000 - true_negatives_2: 3324.0000 - false_positives_2: 996.0000 - false_negatives_2: 1068.0000\n",
      "Epoch 7/10\n",
      "66/66 [==============================] - 47s 707ms/step - loss: 0.5137 - true_positives_2: 2876.0000 - true_negatives_2: 3369.0000 - false_positives_2: 951.0000 - false_negatives_2: 1137.0000\n",
      "Epoch 8/10\n",
      "66/66 [==============================] - 47s 706ms/step - loss: 0.4548 - true_positives_2: 3040.0000 - true_negatives_2: 3596.0000 - false_positives_2: 724.0000 - false_negatives_2: 973.0000\n",
      "Epoch 9/10\n",
      "66/66 [==============================] - 48s 721ms/step - loss: 0.4589 - true_positives_2: 3136.0000 - true_negatives_2: 3521.0000 - false_positives_2: 799.0000 - false_negatives_2: 877.0000\n",
      "Epoch 10/10\n",
      "66/66 [==============================] - 47s 713ms/step - loss: 0.4569 - true_positives_2: 3126.0000 - true_negatives_2: 3467.0000 - false_positives_2: 853.0000 - false_negatives_2: 887.0000\n",
      "66/66 [==============================] - 23s 292ms/step - loss: 0.4229 - true_positives_2: 3283.0000 - true_negatives_2: 3487.0000 - false_positives_2: 553.0000 - false_negatives_2: 1010.0000\n",
      "Epoch 1/10\n",
      "66/66 [==============================] - 65s 830ms/step - loss: 0.6622 - true_positives_3: 2587.0000 - true_negatives_3: 2412.0000 - false_positives_3: 1668.0000 - false_negatives_3: 1667.0000\n",
      "Epoch 2/10\n",
      "21/66 [========>.....................] - ETA: 33s - loss: 0.6158 - true_positives_3: 825.0000 - true_negatives_3: 959.0000 - false_positives_3: 366.0000 - false_negatives_3: 538.0000"
     ]
    },
    {
     "ename": "KeyboardInterrupt",
     "evalue": "",
     "output_type": "error",
     "traceback": [
      "\u001b[0;31m---------------------------------------------------------------------------\u001b[0m",
      "\u001b[0;31mKeyboardInterrupt\u001b[0m                         Traceback (most recent call last)",
      "\u001b[0;32m<ipython-input-21-692b302d0f6f>\u001b[0m in \u001b[0;36m<module>\u001b[0;34m\u001b[0m\n\u001b[1;32m     18\u001b[0m             \u001b[0mstart_time\u001b[0m \u001b[0;34m=\u001b[0m \u001b[0mtime\u001b[0m\u001b[0;34m.\u001b[0m\u001b[0mtime\u001b[0m\u001b[0;34m(\u001b[0m\u001b[0;34m)\u001b[0m\u001b[0;34m\u001b[0m\u001b[0;34m\u001b[0m\u001b[0m\n\u001b[1;32m     19\u001b[0m \u001b[0;34m\u001b[0m\u001b[0m\n\u001b[0;32m---> 20\u001b[0;31m             history = model.fit(train_dataset[train_bifurcation]['X'], \n\u001b[0m\u001b[1;32m     21\u001b[0m                             \u001b[0mtrain_dataset\u001b[0m\u001b[0;34m[\u001b[0m\u001b[0mtrain_bifurcation\u001b[0m\u001b[0;34m]\u001b[0m\u001b[0;34m[\u001b[0m\u001b[0;34m'Y'\u001b[0m\u001b[0;34m]\u001b[0m\u001b[0;34m,\u001b[0m\u001b[0;34m\u001b[0m\u001b[0;34m\u001b[0m\u001b[0m\n\u001b[1;32m     22\u001b[0m                             \u001b[0mbatch_size\u001b[0m\u001b[0;34m=\u001b[0m\u001b[0;36m128\u001b[0m\u001b[0;34m,\u001b[0m\u001b[0;34m\u001b[0m\u001b[0;34m\u001b[0m\u001b[0m\n",
      "\u001b[0;32m~/Projects/miniconda3/envs/dl/lib/python3.8/site-packages/keras/utils/traceback_utils.py\u001b[0m in \u001b[0;36merror_handler\u001b[0;34m(*args, **kwargs)\u001b[0m\n\u001b[1;32m     62\u001b[0m     \u001b[0mfiltered_tb\u001b[0m \u001b[0;34m=\u001b[0m \u001b[0;32mNone\u001b[0m\u001b[0;34m\u001b[0m\u001b[0;34m\u001b[0m\u001b[0m\n\u001b[1;32m     63\u001b[0m     \u001b[0;32mtry\u001b[0m\u001b[0;34m:\u001b[0m\u001b[0;34m\u001b[0m\u001b[0;34m\u001b[0m\u001b[0m\n\u001b[0;32m---> 64\u001b[0;31m       \u001b[0;32mreturn\u001b[0m \u001b[0mfn\u001b[0m\u001b[0;34m(\u001b[0m\u001b[0;34m*\u001b[0m\u001b[0margs\u001b[0m\u001b[0;34m,\u001b[0m \u001b[0;34m**\u001b[0m\u001b[0mkwargs\u001b[0m\u001b[0;34m)\u001b[0m\u001b[0;34m\u001b[0m\u001b[0;34m\u001b[0m\u001b[0m\n\u001b[0m\u001b[1;32m     65\u001b[0m     \u001b[0;32mexcept\u001b[0m \u001b[0mException\u001b[0m \u001b[0;32mas\u001b[0m \u001b[0me\u001b[0m\u001b[0;34m:\u001b[0m  \u001b[0;31m# pylint: disable=broad-except\u001b[0m\u001b[0;34m\u001b[0m\u001b[0;34m\u001b[0m\u001b[0m\n\u001b[1;32m     66\u001b[0m       \u001b[0mfiltered_tb\u001b[0m \u001b[0;34m=\u001b[0m \u001b[0m_process_traceback_frames\u001b[0m\u001b[0;34m(\u001b[0m\u001b[0me\u001b[0m\u001b[0;34m.\u001b[0m\u001b[0m__traceback__\u001b[0m\u001b[0;34m)\u001b[0m\u001b[0;34m\u001b[0m\u001b[0;34m\u001b[0m\u001b[0m\n",
      "\u001b[0;32m~/Projects/miniconda3/envs/dl/lib/python3.8/site-packages/keras/engine/training.py\u001b[0m in \u001b[0;36mfit\u001b[0;34m(self, x, y, batch_size, epochs, verbose, callbacks, validation_split, validation_data, shuffle, class_weight, sample_weight, initial_epoch, steps_per_epoch, validation_steps, validation_batch_size, validation_freq, max_queue_size, workers, use_multiprocessing)\u001b[0m\n\u001b[1;32m   1387\u001b[0m               \u001b[0mlogs\u001b[0m \u001b[0;34m=\u001b[0m \u001b[0mtmp_logs\u001b[0m  \u001b[0;31m# No error, now safe to assign to logs.\u001b[0m\u001b[0;34m\u001b[0m\u001b[0;34m\u001b[0m\u001b[0m\n\u001b[1;32m   1388\u001b[0m               \u001b[0mend_step\u001b[0m \u001b[0;34m=\u001b[0m \u001b[0mstep\u001b[0m \u001b[0;34m+\u001b[0m \u001b[0mdata_handler\u001b[0m\u001b[0;34m.\u001b[0m\u001b[0mstep_increment\u001b[0m\u001b[0;34m\u001b[0m\u001b[0;34m\u001b[0m\u001b[0m\n\u001b[0;32m-> 1389\u001b[0;31m               \u001b[0mcallbacks\u001b[0m\u001b[0;34m.\u001b[0m\u001b[0mon_train_batch_end\u001b[0m\u001b[0;34m(\u001b[0m\u001b[0mend_step\u001b[0m\u001b[0;34m,\u001b[0m \u001b[0mlogs\u001b[0m\u001b[0;34m)\u001b[0m\u001b[0;34m\u001b[0m\u001b[0;34m\u001b[0m\u001b[0m\n\u001b[0m\u001b[1;32m   1390\u001b[0m               \u001b[0;32mif\u001b[0m \u001b[0mself\u001b[0m\u001b[0;34m.\u001b[0m\u001b[0mstop_training\u001b[0m\u001b[0;34m:\u001b[0m\u001b[0;34m\u001b[0m\u001b[0;34m\u001b[0m\u001b[0m\n\u001b[1;32m   1391\u001b[0m                 \u001b[0;32mbreak\u001b[0m\u001b[0;34m\u001b[0m\u001b[0;34m\u001b[0m\u001b[0m\n",
      "\u001b[0;32m~/Projects/miniconda3/envs/dl/lib/python3.8/site-packages/keras/callbacks.py\u001b[0m in \u001b[0;36mon_train_batch_end\u001b[0;34m(self, batch, logs)\u001b[0m\n\u001b[1;32m    436\u001b[0m     \"\"\"\n\u001b[1;32m    437\u001b[0m     \u001b[0;32mif\u001b[0m \u001b[0mself\u001b[0m\u001b[0;34m.\u001b[0m\u001b[0m_should_call_train_batch_hooks\u001b[0m\u001b[0;34m:\u001b[0m\u001b[0;34m\u001b[0m\u001b[0;34m\u001b[0m\u001b[0m\n\u001b[0;32m--> 438\u001b[0;31m       \u001b[0mself\u001b[0m\u001b[0;34m.\u001b[0m\u001b[0m_call_batch_hook\u001b[0m\u001b[0;34m(\u001b[0m\u001b[0mModeKeys\u001b[0m\u001b[0;34m.\u001b[0m\u001b[0mTRAIN\u001b[0m\u001b[0;34m,\u001b[0m \u001b[0;34m'end'\u001b[0m\u001b[0;34m,\u001b[0m \u001b[0mbatch\u001b[0m\u001b[0;34m,\u001b[0m \u001b[0mlogs\u001b[0m\u001b[0;34m=\u001b[0m\u001b[0mlogs\u001b[0m\u001b[0;34m)\u001b[0m\u001b[0;34m\u001b[0m\u001b[0;34m\u001b[0m\u001b[0m\n\u001b[0m\u001b[1;32m    439\u001b[0m \u001b[0;34m\u001b[0m\u001b[0m\n\u001b[1;32m    440\u001b[0m   \u001b[0;32mdef\u001b[0m \u001b[0mon_test_batch_begin\u001b[0m\u001b[0;34m(\u001b[0m\u001b[0mself\u001b[0m\u001b[0;34m,\u001b[0m \u001b[0mbatch\u001b[0m\u001b[0;34m,\u001b[0m \u001b[0mlogs\u001b[0m\u001b[0;34m=\u001b[0m\u001b[0;32mNone\u001b[0m\u001b[0;34m)\u001b[0m\u001b[0;34m:\u001b[0m\u001b[0;34m\u001b[0m\u001b[0;34m\u001b[0m\u001b[0m\n",
      "\u001b[0;32m~/Projects/miniconda3/envs/dl/lib/python3.8/site-packages/keras/callbacks.py\u001b[0m in \u001b[0;36m_call_batch_hook\u001b[0;34m(self, mode, hook, batch, logs)\u001b[0m\n\u001b[1;32m    295\u001b[0m       \u001b[0mself\u001b[0m\u001b[0;34m.\u001b[0m\u001b[0m_call_batch_begin_hook\u001b[0m\u001b[0;34m(\u001b[0m\u001b[0mmode\u001b[0m\u001b[0;34m,\u001b[0m \u001b[0mbatch\u001b[0m\u001b[0;34m,\u001b[0m \u001b[0mlogs\u001b[0m\u001b[0;34m)\u001b[0m\u001b[0;34m\u001b[0m\u001b[0;34m\u001b[0m\u001b[0m\n\u001b[1;32m    296\u001b[0m     \u001b[0;32melif\u001b[0m \u001b[0mhook\u001b[0m \u001b[0;34m==\u001b[0m \u001b[0;34m'end'\u001b[0m\u001b[0;34m:\u001b[0m\u001b[0;34m\u001b[0m\u001b[0;34m\u001b[0m\u001b[0m\n\u001b[0;32m--> 297\u001b[0;31m       \u001b[0mself\u001b[0m\u001b[0;34m.\u001b[0m\u001b[0m_call_batch_end_hook\u001b[0m\u001b[0;34m(\u001b[0m\u001b[0mmode\u001b[0m\u001b[0;34m,\u001b[0m \u001b[0mbatch\u001b[0m\u001b[0;34m,\u001b[0m \u001b[0mlogs\u001b[0m\u001b[0;34m)\u001b[0m\u001b[0;34m\u001b[0m\u001b[0;34m\u001b[0m\u001b[0m\n\u001b[0m\u001b[1;32m    298\u001b[0m     \u001b[0;32melse\u001b[0m\u001b[0;34m:\u001b[0m\u001b[0;34m\u001b[0m\u001b[0;34m\u001b[0m\u001b[0m\n\u001b[1;32m    299\u001b[0m       raise ValueError(\n",
      "\u001b[0;32m~/Projects/miniconda3/envs/dl/lib/python3.8/site-packages/keras/callbacks.py\u001b[0m in \u001b[0;36m_call_batch_end_hook\u001b[0;34m(self, mode, batch, logs)\u001b[0m\n\u001b[1;32m    316\u001b[0m       \u001b[0mself\u001b[0m\u001b[0;34m.\u001b[0m\u001b[0m_batch_times\u001b[0m\u001b[0;34m.\u001b[0m\u001b[0mappend\u001b[0m\u001b[0;34m(\u001b[0m\u001b[0mbatch_time\u001b[0m\u001b[0;34m)\u001b[0m\u001b[0;34m\u001b[0m\u001b[0;34m\u001b[0m\u001b[0m\n\u001b[1;32m    317\u001b[0m \u001b[0;34m\u001b[0m\u001b[0m\n\u001b[0;32m--> 318\u001b[0;31m     \u001b[0mself\u001b[0m\u001b[0;34m.\u001b[0m\u001b[0m_call_batch_hook_helper\u001b[0m\u001b[0;34m(\u001b[0m\u001b[0mhook_name\u001b[0m\u001b[0;34m,\u001b[0m \u001b[0mbatch\u001b[0m\u001b[0;34m,\u001b[0m \u001b[0mlogs\u001b[0m\u001b[0;34m)\u001b[0m\u001b[0;34m\u001b[0m\u001b[0;34m\u001b[0m\u001b[0m\n\u001b[0m\u001b[1;32m    319\u001b[0m \u001b[0;34m\u001b[0m\u001b[0m\n\u001b[1;32m    320\u001b[0m     \u001b[0;32mif\u001b[0m \u001b[0mlen\u001b[0m\u001b[0;34m(\u001b[0m\u001b[0mself\u001b[0m\u001b[0;34m.\u001b[0m\u001b[0m_batch_times\u001b[0m\u001b[0;34m)\u001b[0m \u001b[0;34m>=\u001b[0m \u001b[0mself\u001b[0m\u001b[0;34m.\u001b[0m\u001b[0m_num_batches_for_timing_check\u001b[0m\u001b[0;34m:\u001b[0m\u001b[0;34m\u001b[0m\u001b[0;34m\u001b[0m\u001b[0m\n",
      "\u001b[0;32m~/Projects/miniconda3/envs/dl/lib/python3.8/site-packages/keras/callbacks.py\u001b[0m in \u001b[0;36m_call_batch_hook_helper\u001b[0;34m(self, hook_name, batch, logs)\u001b[0m\n\u001b[1;32m    354\u001b[0m     \u001b[0;32mfor\u001b[0m \u001b[0mcallback\u001b[0m \u001b[0;32min\u001b[0m \u001b[0mself\u001b[0m\u001b[0;34m.\u001b[0m\u001b[0mcallbacks\u001b[0m\u001b[0;34m:\u001b[0m\u001b[0;34m\u001b[0m\u001b[0;34m\u001b[0m\u001b[0m\n\u001b[1;32m    355\u001b[0m       \u001b[0mhook\u001b[0m \u001b[0;34m=\u001b[0m \u001b[0mgetattr\u001b[0m\u001b[0;34m(\u001b[0m\u001b[0mcallback\u001b[0m\u001b[0;34m,\u001b[0m \u001b[0mhook_name\u001b[0m\u001b[0;34m)\u001b[0m\u001b[0;34m\u001b[0m\u001b[0;34m\u001b[0m\u001b[0m\n\u001b[0;32m--> 356\u001b[0;31m       \u001b[0mhook\u001b[0m\u001b[0;34m(\u001b[0m\u001b[0mbatch\u001b[0m\u001b[0;34m,\u001b[0m \u001b[0mlogs\u001b[0m\u001b[0;34m)\u001b[0m\u001b[0;34m\u001b[0m\u001b[0;34m\u001b[0m\u001b[0m\n\u001b[0m\u001b[1;32m    357\u001b[0m \u001b[0;34m\u001b[0m\u001b[0m\n\u001b[1;32m    358\u001b[0m     \u001b[0;32mif\u001b[0m \u001b[0mself\u001b[0m\u001b[0;34m.\u001b[0m\u001b[0m_check_timing\u001b[0m\u001b[0;34m:\u001b[0m\u001b[0;34m\u001b[0m\u001b[0;34m\u001b[0m\u001b[0m\n",
      "\u001b[0;32m~/Projects/miniconda3/envs/dl/lib/python3.8/site-packages/keras/callbacks.py\u001b[0m in \u001b[0;36mon_train_batch_end\u001b[0;34m(self, batch, logs)\u001b[0m\n\u001b[1;32m   1032\u001b[0m \u001b[0;34m\u001b[0m\u001b[0m\n\u001b[1;32m   1033\u001b[0m   \u001b[0;32mdef\u001b[0m \u001b[0mon_train_batch_end\u001b[0m\u001b[0;34m(\u001b[0m\u001b[0mself\u001b[0m\u001b[0;34m,\u001b[0m \u001b[0mbatch\u001b[0m\u001b[0;34m,\u001b[0m \u001b[0mlogs\u001b[0m\u001b[0;34m=\u001b[0m\u001b[0;32mNone\u001b[0m\u001b[0;34m)\u001b[0m\u001b[0;34m:\u001b[0m\u001b[0;34m\u001b[0m\u001b[0;34m\u001b[0m\u001b[0m\n\u001b[0;32m-> 1034\u001b[0;31m     \u001b[0mself\u001b[0m\u001b[0;34m.\u001b[0m\u001b[0m_batch_update_progbar\u001b[0m\u001b[0;34m(\u001b[0m\u001b[0mbatch\u001b[0m\u001b[0;34m,\u001b[0m \u001b[0mlogs\u001b[0m\u001b[0;34m)\u001b[0m\u001b[0;34m\u001b[0m\u001b[0;34m\u001b[0m\u001b[0m\n\u001b[0m\u001b[1;32m   1035\u001b[0m \u001b[0;34m\u001b[0m\u001b[0m\n\u001b[1;32m   1036\u001b[0m   \u001b[0;32mdef\u001b[0m \u001b[0mon_test_batch_end\u001b[0m\u001b[0;34m(\u001b[0m\u001b[0mself\u001b[0m\u001b[0;34m,\u001b[0m \u001b[0mbatch\u001b[0m\u001b[0;34m,\u001b[0m \u001b[0mlogs\u001b[0m\u001b[0;34m=\u001b[0m\u001b[0;32mNone\u001b[0m\u001b[0;34m)\u001b[0m\u001b[0;34m:\u001b[0m\u001b[0;34m\u001b[0m\u001b[0;34m\u001b[0m\u001b[0m\n",
      "\u001b[0;32m~/Projects/miniconda3/envs/dl/lib/python3.8/site-packages/keras/callbacks.py\u001b[0m in \u001b[0;36m_batch_update_progbar\u001b[0;34m(self, batch, logs)\u001b[0m\n\u001b[1;32m   1104\u001b[0m     \u001b[0;32mif\u001b[0m \u001b[0mself\u001b[0m\u001b[0;34m.\u001b[0m\u001b[0mverbose\u001b[0m \u001b[0;34m==\u001b[0m \u001b[0;36m1\u001b[0m\u001b[0;34m:\u001b[0m\u001b[0;34m\u001b[0m\u001b[0;34m\u001b[0m\u001b[0m\n\u001b[1;32m   1105\u001b[0m       \u001b[0;31m# Only block async when verbose = 1.\u001b[0m\u001b[0;34m\u001b[0m\u001b[0;34m\u001b[0m\u001b[0;34m\u001b[0m\u001b[0m\n\u001b[0;32m-> 1106\u001b[0;31m       \u001b[0mlogs\u001b[0m \u001b[0;34m=\u001b[0m \u001b[0mtf_utils\u001b[0m\u001b[0;34m.\u001b[0m\u001b[0msync_to_numpy_or_python_type\u001b[0m\u001b[0;34m(\u001b[0m\u001b[0mlogs\u001b[0m\u001b[0;34m)\u001b[0m\u001b[0;34m\u001b[0m\u001b[0;34m\u001b[0m\u001b[0m\n\u001b[0m\u001b[1;32m   1107\u001b[0m       \u001b[0mself\u001b[0m\u001b[0;34m.\u001b[0m\u001b[0mprogbar\u001b[0m\u001b[0;34m.\u001b[0m\u001b[0mupdate\u001b[0m\u001b[0;34m(\u001b[0m\u001b[0mself\u001b[0m\u001b[0;34m.\u001b[0m\u001b[0mseen\u001b[0m\u001b[0;34m,\u001b[0m \u001b[0mlist\u001b[0m\u001b[0;34m(\u001b[0m\u001b[0mlogs\u001b[0m\u001b[0;34m.\u001b[0m\u001b[0mitems\u001b[0m\u001b[0;34m(\u001b[0m\u001b[0;34m)\u001b[0m\u001b[0;34m)\u001b[0m\u001b[0;34m,\u001b[0m \u001b[0mfinalize\u001b[0m\u001b[0;34m=\u001b[0m\u001b[0;32mFalse\u001b[0m\u001b[0;34m)\u001b[0m\u001b[0;34m\u001b[0m\u001b[0;34m\u001b[0m\u001b[0m\n\u001b[1;32m   1108\u001b[0m \u001b[0;34m\u001b[0m\u001b[0m\n",
      "\u001b[0;32m~/Projects/miniconda3/envs/dl/lib/python3.8/site-packages/keras/utils/tf_utils.py\u001b[0m in \u001b[0;36msync_to_numpy_or_python_type\u001b[0;34m(tensors)\u001b[0m\n\u001b[1;32m    561\u001b[0m     \u001b[0;32mreturn\u001b[0m \u001b[0mt\u001b[0m\u001b[0;34m.\u001b[0m\u001b[0mitem\u001b[0m\u001b[0;34m(\u001b[0m\u001b[0;34m)\u001b[0m \u001b[0;32mif\u001b[0m \u001b[0mnp\u001b[0m\u001b[0;34m.\u001b[0m\u001b[0mndim\u001b[0m\u001b[0;34m(\u001b[0m\u001b[0mt\u001b[0m\u001b[0;34m)\u001b[0m \u001b[0;34m==\u001b[0m \u001b[0;36m0\u001b[0m \u001b[0;32melse\u001b[0m \u001b[0mt\u001b[0m\u001b[0;34m\u001b[0m\u001b[0;34m\u001b[0m\u001b[0m\n\u001b[1;32m    562\u001b[0m \u001b[0;34m\u001b[0m\u001b[0m\n\u001b[0;32m--> 563\u001b[0;31m   \u001b[0;32mreturn\u001b[0m \u001b[0mtf\u001b[0m\u001b[0;34m.\u001b[0m\u001b[0mnest\u001b[0m\u001b[0;34m.\u001b[0m\u001b[0mmap_structure\u001b[0m\u001b[0;34m(\u001b[0m\u001b[0m_to_single_numpy_or_python_type\u001b[0m\u001b[0;34m,\u001b[0m \u001b[0mtensors\u001b[0m\u001b[0;34m)\u001b[0m\u001b[0;34m\u001b[0m\u001b[0;34m\u001b[0m\u001b[0m\n\u001b[0m\u001b[1;32m    564\u001b[0m \u001b[0;34m\u001b[0m\u001b[0m\n\u001b[1;32m    565\u001b[0m \u001b[0;34m\u001b[0m\u001b[0m\n",
      "\u001b[0;32m~/Projects/miniconda3/envs/dl/lib/python3.8/site-packages/tensorflow/python/util/nest.py\u001b[0m in \u001b[0;36mmap_structure\u001b[0;34m(func, *structure, **kwargs)\u001b[0m\n\u001b[1;32m    912\u001b[0m \u001b[0;34m\u001b[0m\u001b[0m\n\u001b[1;32m    913\u001b[0m   return pack_sequence_as(\n\u001b[0;32m--> 914\u001b[0;31m       \u001b[0mstructure\u001b[0m\u001b[0;34m[\u001b[0m\u001b[0;36m0\u001b[0m\u001b[0;34m]\u001b[0m\u001b[0;34m,\u001b[0m \u001b[0;34m[\u001b[0m\u001b[0mfunc\u001b[0m\u001b[0;34m(\u001b[0m\u001b[0;34m*\u001b[0m\u001b[0mx\u001b[0m\u001b[0;34m)\u001b[0m \u001b[0;32mfor\u001b[0m \u001b[0mx\u001b[0m \u001b[0;32min\u001b[0m \u001b[0mentries\u001b[0m\u001b[0;34m]\u001b[0m\u001b[0;34m,\u001b[0m\u001b[0;34m\u001b[0m\u001b[0;34m\u001b[0m\u001b[0m\n\u001b[0m\u001b[1;32m    915\u001b[0m       expand_composites=expand_composites)\n\u001b[1;32m    916\u001b[0m \u001b[0;34m\u001b[0m\u001b[0m\n",
      "\u001b[0;32m~/Projects/miniconda3/envs/dl/lib/python3.8/site-packages/tensorflow/python/util/nest.py\u001b[0m in \u001b[0;36m<listcomp>\u001b[0;34m(.0)\u001b[0m\n\u001b[1;32m    912\u001b[0m \u001b[0;34m\u001b[0m\u001b[0m\n\u001b[1;32m    913\u001b[0m   return pack_sequence_as(\n\u001b[0;32m--> 914\u001b[0;31m       \u001b[0mstructure\u001b[0m\u001b[0;34m[\u001b[0m\u001b[0;36m0\u001b[0m\u001b[0;34m]\u001b[0m\u001b[0;34m,\u001b[0m \u001b[0;34m[\u001b[0m\u001b[0mfunc\u001b[0m\u001b[0;34m(\u001b[0m\u001b[0;34m*\u001b[0m\u001b[0mx\u001b[0m\u001b[0;34m)\u001b[0m \u001b[0;32mfor\u001b[0m \u001b[0mx\u001b[0m \u001b[0;32min\u001b[0m \u001b[0mentries\u001b[0m\u001b[0;34m]\u001b[0m\u001b[0;34m,\u001b[0m\u001b[0;34m\u001b[0m\u001b[0;34m\u001b[0m\u001b[0m\n\u001b[0m\u001b[1;32m    915\u001b[0m       expand_composites=expand_composites)\n\u001b[1;32m    916\u001b[0m \u001b[0;34m\u001b[0m\u001b[0m\n",
      "\u001b[0;32m~/Projects/miniconda3/envs/dl/lib/python3.8/site-packages/keras/utils/tf_utils.py\u001b[0m in \u001b[0;36m_to_single_numpy_or_python_type\u001b[0;34m(t)\u001b[0m\n\u001b[1;32m    555\u001b[0m     \u001b[0;31m# Don't turn ragged or sparse tensors to NumPy.\u001b[0m\u001b[0;34m\u001b[0m\u001b[0;34m\u001b[0m\u001b[0;34m\u001b[0m\u001b[0m\n\u001b[1;32m    556\u001b[0m     \u001b[0;32mif\u001b[0m \u001b[0misinstance\u001b[0m\u001b[0;34m(\u001b[0m\u001b[0mt\u001b[0m\u001b[0;34m,\u001b[0m \u001b[0mtf\u001b[0m\u001b[0;34m.\u001b[0m\u001b[0mTensor\u001b[0m\u001b[0;34m)\u001b[0m\u001b[0;34m:\u001b[0m\u001b[0;34m\u001b[0m\u001b[0;34m\u001b[0m\u001b[0m\n\u001b[0;32m--> 557\u001b[0;31m       \u001b[0mt\u001b[0m \u001b[0;34m=\u001b[0m \u001b[0mt\u001b[0m\u001b[0;34m.\u001b[0m\u001b[0mnumpy\u001b[0m\u001b[0;34m(\u001b[0m\u001b[0;34m)\u001b[0m\u001b[0;34m\u001b[0m\u001b[0;34m\u001b[0m\u001b[0m\n\u001b[0m\u001b[1;32m    558\u001b[0m     \u001b[0;31m# Strings, ragged and sparse tensors don't have .item(). Return them as-is.\u001b[0m\u001b[0;34m\u001b[0m\u001b[0;34m\u001b[0m\u001b[0;34m\u001b[0m\u001b[0m\n\u001b[1;32m    559\u001b[0m     \u001b[0;32mif\u001b[0m \u001b[0;32mnot\u001b[0m \u001b[0misinstance\u001b[0m\u001b[0;34m(\u001b[0m\u001b[0mt\u001b[0m\u001b[0;34m,\u001b[0m \u001b[0;34m(\u001b[0m\u001b[0mnp\u001b[0m\u001b[0;34m.\u001b[0m\u001b[0mndarray\u001b[0m\u001b[0;34m,\u001b[0m \u001b[0mnp\u001b[0m\u001b[0;34m.\u001b[0m\u001b[0mgeneric\u001b[0m\u001b[0;34m)\u001b[0m\u001b[0;34m)\u001b[0m\u001b[0;34m:\u001b[0m\u001b[0;34m\u001b[0m\u001b[0;34m\u001b[0m\u001b[0m\n",
      "\u001b[0;32m~/Projects/miniconda3/envs/dl/lib/python3.8/site-packages/tensorflow/python/framework/ops.py\u001b[0m in \u001b[0;36mnumpy\u001b[0;34m(self)\u001b[0m\n\u001b[1;32m   1221\u001b[0m     \"\"\"\n\u001b[1;32m   1222\u001b[0m     \u001b[0;31m# TODO(slebedev): Consider avoiding a copy for non-CPU or remote tensors.\u001b[0m\u001b[0;34m\u001b[0m\u001b[0;34m\u001b[0m\u001b[0;34m\u001b[0m\u001b[0m\n\u001b[0;32m-> 1223\u001b[0;31m     \u001b[0mmaybe_arr\u001b[0m \u001b[0;34m=\u001b[0m \u001b[0mself\u001b[0m\u001b[0;34m.\u001b[0m\u001b[0m_numpy\u001b[0m\u001b[0;34m(\u001b[0m\u001b[0;34m)\u001b[0m  \u001b[0;31m# pylint: disable=protected-access\u001b[0m\u001b[0;34m\u001b[0m\u001b[0;34m\u001b[0m\u001b[0m\n\u001b[0m\u001b[1;32m   1224\u001b[0m     \u001b[0;32mreturn\u001b[0m \u001b[0mmaybe_arr\u001b[0m\u001b[0;34m.\u001b[0m\u001b[0mcopy\u001b[0m\u001b[0;34m(\u001b[0m\u001b[0;34m)\u001b[0m \u001b[0;32mif\u001b[0m \u001b[0misinstance\u001b[0m\u001b[0;34m(\u001b[0m\u001b[0mmaybe_arr\u001b[0m\u001b[0;34m,\u001b[0m \u001b[0mnp\u001b[0m\u001b[0;34m.\u001b[0m\u001b[0mndarray\u001b[0m\u001b[0;34m)\u001b[0m \u001b[0;32melse\u001b[0m \u001b[0mmaybe_arr\u001b[0m\u001b[0;34m\u001b[0m\u001b[0;34m\u001b[0m\u001b[0m\n\u001b[1;32m   1225\u001b[0m \u001b[0;34m\u001b[0m\u001b[0m\n",
      "\u001b[0;32m~/Projects/miniconda3/envs/dl/lib/python3.8/site-packages/tensorflow/python/framework/ops.py\u001b[0m in \u001b[0;36m_numpy\u001b[0;34m(self)\u001b[0m\n\u001b[1;32m   1187\u001b[0m   \u001b[0;32mdef\u001b[0m \u001b[0m_numpy\u001b[0m\u001b[0;34m(\u001b[0m\u001b[0mself\u001b[0m\u001b[0;34m)\u001b[0m\u001b[0;34m:\u001b[0m\u001b[0;34m\u001b[0m\u001b[0;34m\u001b[0m\u001b[0m\n\u001b[1;32m   1188\u001b[0m     \u001b[0;32mtry\u001b[0m\u001b[0;34m:\u001b[0m\u001b[0;34m\u001b[0m\u001b[0;34m\u001b[0m\u001b[0m\n\u001b[0;32m-> 1189\u001b[0;31m       \u001b[0;32mreturn\u001b[0m \u001b[0mself\u001b[0m\u001b[0;34m.\u001b[0m\u001b[0m_numpy_internal\u001b[0m\u001b[0;34m(\u001b[0m\u001b[0;34m)\u001b[0m\u001b[0;34m\u001b[0m\u001b[0;34m\u001b[0m\u001b[0m\n\u001b[0m\u001b[1;32m   1190\u001b[0m     \u001b[0;32mexcept\u001b[0m \u001b[0mcore\u001b[0m\u001b[0;34m.\u001b[0m\u001b[0m_NotOkStatusException\u001b[0m \u001b[0;32mas\u001b[0m \u001b[0me\u001b[0m\u001b[0;34m:\u001b[0m  \u001b[0;31m# pylint: disable=protected-access\u001b[0m\u001b[0;34m\u001b[0m\u001b[0;34m\u001b[0m\u001b[0m\n\u001b[1;32m   1191\u001b[0m       \u001b[0;32mraise\u001b[0m \u001b[0mcore\u001b[0m\u001b[0;34m.\u001b[0m\u001b[0m_status_to_exception\u001b[0m\u001b[0;34m(\u001b[0m\u001b[0me\u001b[0m\u001b[0;34m)\u001b[0m \u001b[0;32mfrom\u001b[0m \u001b[0;32mNone\u001b[0m  \u001b[0;31m# pylint: disable=protected-access\u001b[0m\u001b[0;34m\u001b[0m\u001b[0;34m\u001b[0m\u001b[0m\n",
      "\u001b[0;31mKeyboardInterrupt\u001b[0m: "
     ]
    },
    {
     "data": {
      "image/png": "[encoded data removed]",
      "text/plain": [
       "<Figure size 432x288 with 1 Axes>"
      ]
     },
     "metadata": {
      "needs_background": "light"
     },
     "output_type": "display_data"
    }
   ],
   "source": [
    "for train_bifurcation in train_dataset.keys() : \n",
    "    for recursion_layer in recursion_layers:\n",
    "        for bidirectional in bidirectionality: \n",
    "            \n",
    "            if bidirectional : \n",
    "                model_name = 'bi-{}_{}_sentence_dataset'.format(recursion_layer, train_bifurcation)\n",
    "            else : \n",
    "                model_name = '{}_{}_sentence_dataset'.format(recursion_layer, train_bifurcation)\n",
    "              \n",
    "            log_path = os.path.join(log_dir, model_name+'.txt')\n",
    "            train_log_path = os.path.join(log_dir, model_name+'.csv')\n",
    "            \n",
    "            log_file = open(log_path, 'w')\n",
    "            log = \"\\nTraining for {}\\n\".format(model_name)\n",
    "\n",
    "            model = get_model(recursion_layer)\n",
    "\n",
    "            start_time = time.time()\n",
    "\n",
    "            history = model.fit(train_dataset[train_bifurcation]['X'], \n",
    "                            train_dataset[train_bifurcation]['Y'], \n",
    "                            batch_size=128, \n",
    "                            callbacks=[early_stopping], \n",
    "                            epochs=10)\n",
    "\n",
    "            total_time = time.time() - start_time\n",
    "\n",
    "            log_file.write('Total time taken to train : {} seconds'.format(round(total_time, 2)))\n",
    "\n",
    "            train_history_df = pd.DataFrame(history.history)\n",
    "            train_history_df.to_csv(train_log_path, index=False)\n",
    "                                    \n",
    "\n",
    "            # plot_loss(model_name, history.history['loss'])\n",
    "\n",
    "            for test_bifurcation in test_dataset.keys() : \n",
    "\n",
    "                log += \"Validating on {} sentences \".format(test_bifurcation)\n",
    "                log += \"loss\\tTP\\tTN\\tFP\\tFN\\n\"\n",
    "\n",
    "                results = model.evaluate(test_dataset[test_bifurcation]['X'], \n",
    "                                         test_dataset[test_bifurcation]['Y'],\n",
    "                                         batch_size=128)\n",
    "\n",
    "\n",
    "                for result in results:\n",
    "                    log += \"{}\\t\".format(round(result, 2))\n",
    "\n",
    "                log += \"\\n\"\n",
    "\n",
    "\n",
    "                log_file.write(log)\n",
    "                log_file.flush()\n",
    "                log_file.close()\n",
    "\n",
    "                log = \"\\n\""
   ]
  },
  {
   "cell_type": "markdown",
   "id": "492d7711-556e-45e2-9ef9-9ed762417f2b",
   "metadata": {},
   "source": [
    "### Questions to ask : \n",
    "\n",
    "1. Bidirectional OK? (No, any number of layers ok as long as consistent)\n",
    "2. Code copy OK? (Coding tutorial, citation required, comments to ensure that you understand the code )\n",
    "3. Word2Vec source? (Any embedding OK, as long as at least 2)\n",
    "4. General trends? (Carefully read requirements from question)\n",
    "5. Splits are bad, sticking with them\n",
    "\n",
    "### Things to report : \n",
    "\n",
    "1. "
   ]
  },
  {
   "cell_type": "code",
   "execution_count": null,
   "id": "c442aae1-b99b-45a2-a59f-7faa8531ff3b",
   "metadata": {},
   "outputs": [],
   "source": []
  }
 ],
 "metadata": {
  "kernelspec": {
   "display_name": "Python 3",
   "language": "python",
   "name": "python3"
  },
  "language_info": {
   "codemirror_mode": {
    "name": "ipython",
    "version": 3
   },
   "file_extension": ".py",
   "mimetype": "text/x-python",
   "name": "python",
   "nbconvert_exporter": "python",
   "pygments_lexer": "ipython3",
   "version": "3.8.11"
  }
 },
 "nbformat": 4,
 "nbformat_minor": 5
}
